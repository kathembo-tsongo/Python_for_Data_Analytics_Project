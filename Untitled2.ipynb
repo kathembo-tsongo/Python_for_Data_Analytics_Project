{
  "nbformat": 4,
  "nbformat_minor": 0,
  "metadata": {
    "colab": {
      "provenance": []
    },
    "kernelspec": {
      "name": "python3",
      "display_name": "Python 3"
    },
    "language_info": {
      "name": "python"
    }
  },
  "cells": [
    {
      "cell_type": "code",
      "execution_count": null,
      "metadata": {
        "id": "P420tPZSfu9A",
        "outputId": "81637eb5-8e59-480f-fe06-77aa3fa4a03f",
        "colab": {
          "base_uri": "https://localhost:8080/"
        }
      },
      "outputs": [
        {
          "output_type": "execute_result",
          "data": {
            "text/plain": [
              "6"
            ]
          },
          "metadata": {},
          "execution_count": 1
        }
      ],
      "source": [
        "2 * 3\n"
      ]
    },
    {
      "cell_type": "code",
      "source": [
        "print(\"Here we are now\")\n"
      ],
      "metadata": {
        "id": "z-SOvrMAlMW8",
        "outputId": "791bc5fa-9dc9-4dba-e787-03a56f861024",
        "colab": {
          "base_uri": "https://localhost:8080/"
        }
      },
      "execution_count": 1,
      "outputs": [
        {
          "output_type": "stream",
          "name": "stdout",
          "text": [
            "Here we are now\n"
          ]
        }
      ]
    }
  ]
}