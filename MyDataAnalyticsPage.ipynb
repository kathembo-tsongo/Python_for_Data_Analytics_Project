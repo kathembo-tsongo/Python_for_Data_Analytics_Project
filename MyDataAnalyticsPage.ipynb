{
  "nbformat": 4,
  "nbformat_minor": 0,
  "metadata": {
    "colab": {
      "provenance": [],
      "toc_visible": true,
      "authorship_tag": "ABX9TyO2AjluhNPnhApkSWC7bIu1",
      "include_colab_link": true
    },
    "kernelspec": {
      "name": "python3",
      "display_name": "Python 3"
    },
    "language_info": {
      "name": "python"
    }
  },
  "cells": [
    {
      "cell_type": "markdown",
      "metadata": {
        "id": "view-in-github",
        "colab_type": "text"
      },
      "source": [
        "<a href=\"https://colab.research.google.com/github/kathembo-tsongo/Python_for_Data_Analytics_Project/blob/main/MyDataAnalyticsPage.ipynb\" target=\"_parent\"><img src=\"https://colab.research.google.com/assets/colab-badge.svg\" alt=\"Open In Colab\"/></a>"
      ]
    },
    {
      "cell_type": "markdown",
      "source": [
        "#Exercises 1\n"
      ],
      "metadata": {
        "id": "_rGvTI6VCuhq"
      }
    },
    {
      "cell_type": "markdown",
      "source": [
        "## Objects\n",
        "## An object is a thing that stores data(called again attribute)\n"
      ],
      "metadata": {
        "id": "PpjBaBw3Z723"
      }
    },
    {
      "cell_type": "code",
      "source": [
        "car = \"Toyota\"\n",
        "print(car)\n"
      ],
      "metadata": {
        "id": "IFpnM2KXaWIe",
        "outputId": "bdfe4922-ace1-4d8e-8aa9-165f981c2831",
        "colab": {
          "base_uri": "https://localhost:8080/"
        }
      },
      "execution_count": 1,
      "outputs": [
        {
          "output_type": "stream",
          "name": "stdout",
          "text": [
            "Toyota\n"
          ]
        }
      ]
    },
    {
      "cell_type": "markdown",
      "source": [
        "## Check the type of the car object"
      ],
      "metadata": {
        "id": "MsgEAXLIaoWc"
      }
    },
    {
      "cell_type": "code",
      "source": [
        "print(type(car))"
      ],
      "metadata": {
        "id": "TfuI412rawMg",
        "outputId": "36f7ec0b-1778-481f-eaab-49bc0bf19e69",
        "colab": {
          "base_uri": "https://localhost:8080/"
        }
      },
      "execution_count": 2,
      "outputs": [
        {
          "output_type": "stream",
          "name": "stdout",
          "text": [
            "<class 'str'>\n"
          ]
        }
      ]
    },
    {
      "cell_type": "markdown",
      "source": [
        "## Lists and Tuples"
      ],
      "metadata": {
        "id": "5ZDZ6PHxfnee"
      }
    },
    {
      "cell_type": "code",
      "execution_count": 3,
      "metadata": {
        "colab": {
          "base_uri": "https://localhost:8080/"
        },
        "id": "_6PT5vpvnRFq",
        "outputId": "0cf7960e-90a4-4102-8251-7b4a35b5738b"
      },
      "outputs": [
        {
          "output_type": "stream",
          "name": "stdout",
          "text": [
            "[50, 40, 30]\n",
            "[50, 40, 30, 25]\n",
            "[50, 30, 25]\n"
          ]
        }
      ],
      "source": [
        "my_list = [50,40,30]\n",
        "print(my_list)\n",
        "my_list.append(25)\n",
        "print(my_list)\n",
        "my_list.remove(40)\n",
        "print(my_list)"
      ]
    },
    {
      "cell_type": "code",
      "source": [
        "my_tuple = (30,20,10)\n",
        "print(my_tuple)\n",
        "my_tuple.remove(20)\n",
        "print(my_tuple)"
      ],
      "metadata": {
        "id": "Q50ScBm2ghYR",
        "outputId": "d12bd9bd-ef54-4ae7-df30-5ea894004d3b",
        "colab": {
          "base_uri": "https://localhost:8080/",
          "height": 216
        }
      },
      "execution_count": 4,
      "outputs": [
        {
          "output_type": "stream",
          "name": "stdout",
          "text": [
            "(30, 20, 10)\n"
          ]
        },
        {
          "output_type": "error",
          "ename": "AttributeError",
          "evalue": "'tuple' object has no attribute 'remove'",
          "traceback": [
            "\u001b[0;31m---------------------------------------------------------------------------\u001b[0m",
            "\u001b[0;31mAttributeError\u001b[0m                            Traceback (most recent call last)",
            "\u001b[0;32m/tmp/ipython-input-2211031238.py\u001b[0m in \u001b[0;36m<cell line: 0>\u001b[0;34m()\u001b[0m\n\u001b[1;32m      1\u001b[0m \u001b[0mmy_tuple\u001b[0m \u001b[0;34m=\u001b[0m \u001b[0;34m(\u001b[0m\u001b[0;36m30\u001b[0m\u001b[0;34m,\u001b[0m\u001b[0;36m20\u001b[0m\u001b[0;34m,\u001b[0m\u001b[0;36m10\u001b[0m\u001b[0;34m)\u001b[0m\u001b[0;34m\u001b[0m\u001b[0;34m\u001b[0m\u001b[0m\n\u001b[1;32m      2\u001b[0m \u001b[0mprint\u001b[0m\u001b[0;34m(\u001b[0m\u001b[0mmy_tuple\u001b[0m\u001b[0;34m)\u001b[0m\u001b[0;34m\u001b[0m\u001b[0;34m\u001b[0m\u001b[0m\n\u001b[0;32m----> 3\u001b[0;31m \u001b[0mmy_tuple\u001b[0m\u001b[0;34m.\u001b[0m\u001b[0mremove\u001b[0m\u001b[0;34m(\u001b[0m\u001b[0;36m20\u001b[0m\u001b[0;34m)\u001b[0m\u001b[0;34m\u001b[0m\u001b[0;34m\u001b[0m\u001b[0m\n\u001b[0m\u001b[1;32m      4\u001b[0m \u001b[0mprint\u001b[0m\u001b[0;34m(\u001b[0m\u001b[0mmy_tuple\u001b[0m\u001b[0;34m)\u001b[0m\u001b[0;34m\u001b[0m\u001b[0;34m\u001b[0m\u001b[0m\n",
            "\u001b[0;31mAttributeError\u001b[0m: 'tuple' object has no attribute 'remove'"
          ]
        }
      ]
    },
    {
      "cell_type": "markdown",
      "source": [
        "#Create a Variable"
      ],
      "metadata": {
        "id": "NL-clDJXFdn-"
      }
    },
    {
      "cell_type": "code",
      "source": [
        "salary = 10\n",
        "print(salary)\n"
      ],
      "metadata": {
        "id": "OUotQ9IeFLum",
        "outputId": "a33dd188-efe6-4ca0-96c8-acb494aadaeb",
        "colab": {
          "base_uri": "https://localhost:8080/"
        }
      },
      "execution_count": null,
      "outputs": [
        {
          "output_type": "stream",
          "name": "stdout",
          "text": [
            "10\n"
          ]
        }
      ]
    }
  ]
}