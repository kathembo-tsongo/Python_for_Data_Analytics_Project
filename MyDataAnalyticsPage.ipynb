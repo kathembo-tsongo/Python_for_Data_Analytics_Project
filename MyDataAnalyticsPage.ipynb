{
  "nbformat": 4,
  "nbformat_minor": 0,
  "metadata": {
    "colab": {
      "provenance": [],
      "toc_visible": true,
      "authorship_tag": "ABX9TyNvTBLkRjrn+TSELt1gp28C",
      "include_colab_link": true
    },
    "kernelspec": {
      "name": "python3",
      "display_name": "Python 3"
    },
    "language_info": {
      "name": "python"
    }
  },
  "cells": [
    {
      "cell_type": "markdown",
      "metadata": {
        "id": "view-in-github",
        "colab_type": "text"
      },
      "source": [
        "<a href=\"https://colab.research.google.com/github/kathembo-tsongo/Python_for_Data_Analytics_Project/blob/main/MyDataAnalyticsPage.ipynb\" target=\"_parent\"><img src=\"https://colab.research.google.com/assets/colab-badge.svg\" alt=\"Open In Colab\"/></a>"
      ]
    },
    {
      "cell_type": "markdown",
      "source": [
        "#Exercises 1\n"
      ],
      "metadata": {
        "id": "_rGvTI6VCuhq"
      }
    },
    {
      "cell_type": "code",
      "execution_count": 5,
      "metadata": {
        "colab": {
          "base_uri": "https://localhost:8080/"
        },
        "id": "_6PT5vpvnRFq",
        "outputId": "6801c490-ecec-4205-dbb8-e826a7edf108"
      },
      "outputs": [
        {
          "output_type": "stream",
          "name": "stdout",
          "text": [
            "My Data Analytics Page\n"
          ]
        }
      ],
      "source": [
        "print(\"My Data Analytics Page\")"
      ]
    },
    {
      "cell_type": "markdown",
      "source": [
        "#Create a Variable"
      ],
      "metadata": {
        "id": "NL-clDJXFdn-"
      }
    },
    {
      "cell_type": "code",
      "source": [
        "salary = 10\n",
        "print(salary)\n"
      ],
      "metadata": {
        "id": "OUotQ9IeFLum",
        "outputId": "a33dd188-efe6-4ca0-96c8-acb494aadaeb",
        "colab": {
          "base_uri": "https://localhost:8080/"
        }
      },
      "execution_count": 8,
      "outputs": [
        {
          "output_type": "stream",
          "name": "stdout",
          "text": [
            "10\n"
          ]
        }
      ]
    }
  ]
}