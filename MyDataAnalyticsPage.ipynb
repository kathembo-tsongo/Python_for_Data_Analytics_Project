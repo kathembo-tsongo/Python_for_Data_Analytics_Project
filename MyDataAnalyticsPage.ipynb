{
  "nbformat": 4,
  "nbformat_minor": 0,
  "metadata": {
    "colab": {
      "provenance": [],
      "toc_visible": true,
      "authorship_tag": "ABX9TyN5qM1FGcpzHFqyVuhK/b15",
      "include_colab_link": true
    },
    "kernelspec": {
      "name": "python3",
      "display_name": "Python 3"
    },
    "language_info": {
      "name": "python"
    }
  },
  "cells": [
    {
      "cell_type": "markdown",
      "metadata": {
        "id": "view-in-github",
        "colab_type": "text"
      },
      "source": [
        "<a href=\"https://colab.research.google.com/github/kathembo-tsongo/Python_for_Data_Analytics_Project/blob/main/MyDataAnalyticsPage.ipynb\" target=\"_parent\"><img src=\"https://colab.research.google.com/assets/colab-badge.svg\" alt=\"Open In Colab\"/></a>"
      ]
    },
    {
      "cell_type": "markdown",
      "source": [
        "#Exercises 1\n"
      ],
      "metadata": {
        "id": "_rGvTI6VCuhq"
      }
    },
    {
      "cell_type": "markdown",
      "source": [
        "## Objects and variables\n",
        "## An object is a thing that stores data(called again attribute)\n"
      ],
      "metadata": {
        "id": "PpjBaBw3Z723"
      }
    },
    {
      "cell_type": "code",
      "source": [
        "car = \"Toyota\"\n",
        "print(car)\n"
      ],
      "metadata": {
        "id": "IFpnM2KXaWIe",
        "outputId": "bdfe4922-ace1-4d8e-8aa9-165f981c2831",
        "colab": {
          "base_uri": "https://localhost:8080/"
        }
      },
      "execution_count": null,
      "outputs": [
        {
          "output_type": "stream",
          "name": "stdout",
          "text": [
            "Toyota\n"
          ]
        }
      ]
    },
    {
      "cell_type": "markdown",
      "source": [
        "## Check the type of the car object"
      ],
      "metadata": {
        "id": "MsgEAXLIaoWc"
      }
    },
    {
      "cell_type": "code",
      "source": [
        "print(type(car))"
      ],
      "metadata": {
        "id": "TfuI412rawMg",
        "outputId": "36f7ec0b-1778-481f-eaab-49bc0bf19e69",
        "colab": {
          "base_uri": "https://localhost:8080/"
        }
      },
      "execution_count": null,
      "outputs": [
        {
          "output_type": "stream",
          "name": "stdout",
          "text": [
            "<class 'str'>\n"
          ]
        }
      ]
    },
    {
      "cell_type": "markdown",
      "source": [
        "## Lists and Tuples"
      ],
      "metadata": {
        "id": "5ZDZ6PHxfnee"
      }
    },
    {
      "cell_type": "code",
      "execution_count": null,
      "metadata": {
        "colab": {
          "base_uri": "https://localhost:8080/"
        },
        "id": "_6PT5vpvnRFq",
        "outputId": "0cf7960e-90a4-4102-8251-7b4a35b5738b"
      },
      "outputs": [
        {
          "output_type": "stream",
          "name": "stdout",
          "text": [
            "[50, 40, 30]\n",
            "[50, 40, 30, 25]\n",
            "[50, 30, 25]\n"
          ]
        }
      ],
      "source": [
        "my_list = [50,40,30]\n",
        "print(my_list)\n",
        "my_list.append(25)\n",
        "print(my_list)\n",
        "my_list.remove(40)\n",
        "print(my_list)"
      ]
    },
    {
      "cell_type": "code",
      "source": [
        "my_tuple = (30,20,10)\n",
        "print(my_tuple)\n",
        "my_tuple.remove(20)\n",
        "print(my_tuple)"
      ],
      "metadata": {
        "id": "Q50ScBm2ghYR",
        "outputId": "d12bd9bd-ef54-4ae7-df30-5ea894004d3b",
        "colab": {
          "base_uri": "https://localhost:8080/",
          "height": 216
        }
      },
      "execution_count": null,
      "outputs": [
        {
          "output_type": "stream",
          "name": "stdout",
          "text": [
            "(30, 20, 10)\n"
          ]
        },
        {
          "output_type": "error",
          "ename": "AttributeError",
          "evalue": "'tuple' object has no attribute 'remove'",
          "traceback": [
            "\u001b[0;31m---------------------------------------------------------------------------\u001b[0m",
            "\u001b[0;31mAttributeError\u001b[0m                            Traceback (most recent call last)",
            "\u001b[0;32m/tmp/ipython-input-2211031238.py\u001b[0m in \u001b[0;36m<cell line: 0>\u001b[0;34m()\u001b[0m\n\u001b[1;32m      1\u001b[0m \u001b[0mmy_tuple\u001b[0m \u001b[0;34m=\u001b[0m \u001b[0;34m(\u001b[0m\u001b[0;36m30\u001b[0m\u001b[0;34m,\u001b[0m\u001b[0;36m20\u001b[0m\u001b[0;34m,\u001b[0m\u001b[0;36m10\u001b[0m\u001b[0;34m)\u001b[0m\u001b[0;34m\u001b[0m\u001b[0;34m\u001b[0m\u001b[0m\n\u001b[1;32m      2\u001b[0m \u001b[0mprint\u001b[0m\u001b[0;34m(\u001b[0m\u001b[0mmy_tuple\u001b[0m\u001b[0;34m)\u001b[0m\u001b[0;34m\u001b[0m\u001b[0;34m\u001b[0m\u001b[0m\n\u001b[0;32m----> 3\u001b[0;31m \u001b[0mmy_tuple\u001b[0m\u001b[0;34m.\u001b[0m\u001b[0mremove\u001b[0m\u001b[0;34m(\u001b[0m\u001b[0;36m20\u001b[0m\u001b[0;34m)\u001b[0m\u001b[0;34m\u001b[0m\u001b[0;34m\u001b[0m\u001b[0m\n\u001b[0m\u001b[1;32m      4\u001b[0m \u001b[0mprint\u001b[0m\u001b[0;34m(\u001b[0m\u001b[0mmy_tuple\u001b[0m\u001b[0;34m)\u001b[0m\u001b[0;34m\u001b[0m\u001b[0;34m\u001b[0m\u001b[0m\n",
            "\u001b[0;31mAttributeError\u001b[0m: 'tuple' object has no attribute 'remove'"
          ]
        }
      ]
    },
    {
      "cell_type": "markdown",
      "source": [
        "##Dictionaries"
      ],
      "metadata": {
        "id": "JKnGqClot5WS"
      }
    },
    {
      "cell_type": "code",
      "source": [
        "employees = {\"Name\": \"Tsongo\", \"Salary\": 5000}\n",
        "print(employees)"
      ],
      "metadata": {
        "id": "J4y0uMbHt-rK",
        "outputId": "580552ae-2ec6-4e19-cd52-20b20098e310",
        "colab": {
          "base_uri": "https://localhost:8080/"
        }
      },
      "execution_count": 10,
      "outputs": [
        {
          "output_type": "stream",
          "name": "stdout",
          "text": [
            "{'Name': 'Tsongo', 'Salary': 5000}\n"
          ]
        }
      ]
    },
    {
      "cell_type": "markdown",
      "source": [
        "##Structure Data with Pandas using DataFrame"
      ],
      "metadata": {
        "id": "-k54t8A5uUvA"
      }
    },
    {
      "cell_type": "code",
      "source": [
        "import pandas as pd\n",
        "\n",
        "data = pd.DataFrame(\n",
        "    {\n",
        "        \"Name\": [\"Tsongo\",\"Dido\"],\n",
        "        \"Salary\": [50,40]\n",
        "    }\n",
        ")\n",
        "print(data)"
      ],
      "metadata": {
        "id": "OEmRJ50mubDU",
        "outputId": "8d3f4f14-b233-4849-b5d8-f7ebb9c1348f",
        "colab": {
          "base_uri": "https://localhost:8080/"
        }
      },
      "execution_count": 13,
      "outputs": [
        {
          "output_type": "stream",
          "name": "stdout",
          "text": [
            "     Name  Salary\n",
            "0  Tsongo      50\n",
            "1    Dido      40\n"
          ]
        }
      ]
    },
    {
      "cell_type": "markdown",
      "source": [
        "##Methods and Functions\n",
        "###A Methode is a function that belong to an object. That is why it has to attached to the object using the dot notation."
      ],
      "metadata": {
        "id": "72GhYWkV3cce"
      }
    },
    {
      "cell_type": "code",
      "source": [
        "import pandas as pd\n",
        "\n",
        "data = pd.DataFrame({\n",
        "    \"Salary\": [50,40,10,20]\n",
        "    }\n",
        ")\n",
        "print(data[\"Salary\"].mean())\n"
      ],
      "metadata": {
        "id": "B6qmXFTm3gt3",
        "outputId": "27c1e300-35bc-454d-b3e6-62997853542b",
        "colab": {
          "base_uri": "https://localhost:8080/"
        }
      },
      "execution_count": 22,
      "outputs": [
        {
          "output_type": "stream",
          "name": "stdout",
          "text": [
            "30.0\n"
          ]
        }
      ]
    }
  ]
}